{
 "cells": [
  {
   "cell_type": "code",
   "execution_count": 31,
   "metadata": {},
   "outputs": [],
   "source": [
    "import pandas as pd\n",
    "import numpy as np\n",
    "import xgboost as xgb\n",
    "from xgboost.sklearn import XGBClassifier\n",
    "from sklearn import cross_validation, metrics   #Additional     scklearn functions\n",
    "from sklearn.model_selection import GridSearchCV   #Perforing grid search\n",
    "from sklearn.ensemble import RandomForestClassifier,AdaBoostClassifier\n",
    "from sklearn.linear_model import Perceptron, LogisticRegression\n",
    "from sklearn.model_selection import cross_val_score\n",
    "import matplotlib.pylab as plt\n",
    "%matplotlib inline\n",
    "from matplotlib.pylab import rcParams\n",
    "rcParams['figure.figsize'] = 12, 4\n",
    " \n",
    "train = pd.read_csv('df_training.csv')\n",
    "#train.dropna()\n",
    "target = 'TARGET'\n",
    "IDcol = 'ID'\n",
    "#train=pd.get_dummies(train)\n",
    "\n",
    "predictors = [x for x in train.columns if x not in [target,IDcol]]\n",
    "\n",
    "import warnings\n",
    "warnings.filterwarnings('ignore')"
   ]
  },
  {
   "cell_type": "code",
   "execution_count": 32,
   "metadata": {},
   "outputs": [
    {
     "data": {
      "text/plain": [
       "0    4777\n",
       "1    1223\n",
       "Name: TARGET, dtype: int64"
      ]
     },
     "execution_count": 32,
     "metadata": {},
     "output_type": "execute_result"
    }
   ],
   "source": [
    "train.TARGET.value_counts()"
   ]
  },
  {
   "cell_type": "code",
   "execution_count": 33,
   "metadata": {},
   "outputs": [
    {
     "data": {
      "text/html": [
       "<div>\n",
       "<style scoped>\n",
       "    .dataframe tbody tr th:only-of-type {\n",
       "        vertical-align: middle;\n",
       "    }\n",
       "\n",
       "    .dataframe tbody tr th {\n",
       "        vertical-align: top;\n",
       "    }\n",
       "\n",
       "    .dataframe thead th {\n",
       "        text-align: right;\n",
       "    }\n",
       "</style>\n",
       "<table border=\"1\" class=\"dataframe\">\n",
       "  <thead>\n",
       "    <tr style=\"text-align: right;\">\n",
       "      <th></th>\n",
       "      <th>ID</th>\n",
       "      <th>Product_using_score</th>\n",
       "      <th>User_area</th>\n",
       "      <th>gender</th>\n",
       "      <th>age</th>\n",
       "      <th>Cumulative_using_time</th>\n",
       "      <th>Point_balance</th>\n",
       "      <th>Product_service_usage</th>\n",
       "      <th>Pay_a_monthly_fee_by_credit_card</th>\n",
       "      <th>Active_user</th>\n",
       "      <th>Estimated_salary</th>\n",
       "      <th>TARGET</th>\n",
       "    </tr>\n",
       "  </thead>\n",
       "  <tbody>\n",
       "    <tr>\n",
       "      <th>0</th>\n",
       "      <td>6518</td>\n",
       "      <td>628.0</td>\n",
       "      <td>NaN</td>\n",
       "      <td>Female</td>\n",
       "      <td>51.0</td>\n",
       "      <td>NaN</td>\n",
       "      <td>155903.82</td>\n",
       "      <td>2.0</td>\n",
       "      <td>1.0</td>\n",
       "      <td>1.0</td>\n",
       "      <td>71159.84</td>\n",
       "      <td>0</td>\n",
       "    </tr>\n",
       "    <tr>\n",
       "      <th>1</th>\n",
       "      <td>5195</td>\n",
       "      <td>696.0</td>\n",
       "      <td>Taipei</td>\n",
       "      <td>NaN</td>\n",
       "      <td>27.0</td>\n",
       "      <td>4.0</td>\n",
       "      <td>NaN</td>\n",
       "      <td>2.0</td>\n",
       "      <td>0.0</td>\n",
       "      <td>NaN</td>\n",
       "      <td>196111.35</td>\n",
       "      <td>0</td>\n",
       "    </tr>\n",
       "    <tr>\n",
       "      <th>2</th>\n",
       "      <td>1786</td>\n",
       "      <td>NaN</td>\n",
       "      <td>Taichung</td>\n",
       "      <td>Male</td>\n",
       "      <td>40.0</td>\n",
       "      <td>3.0</td>\n",
       "      <td>NaN</td>\n",
       "      <td>2.0</td>\n",
       "      <td>1.0</td>\n",
       "      <td>1.0</td>\n",
       "      <td>NaN</td>\n",
       "      <td>0</td>\n",
       "    </tr>\n",
       "    <tr>\n",
       "      <th>3</th>\n",
       "      <td>6151</td>\n",
       "      <td>NaN</td>\n",
       "      <td>NaN</td>\n",
       "      <td>Male</td>\n",
       "      <td>NaN</td>\n",
       "      <td>NaN</td>\n",
       "      <td>NaN</td>\n",
       "      <td>NaN</td>\n",
       "      <td>1.0</td>\n",
       "      <td>0.0</td>\n",
       "      <td>NaN</td>\n",
       "      <td>1</td>\n",
       "    </tr>\n",
       "    <tr>\n",
       "      <th>4</th>\n",
       "      <td>7577</td>\n",
       "      <td>NaN</td>\n",
       "      <td>Tainan</td>\n",
       "      <td>NaN</td>\n",
       "      <td>27.0</td>\n",
       "      <td>NaN</td>\n",
       "      <td>0.00</td>\n",
       "      <td>1.0</td>\n",
       "      <td>NaN</td>\n",
       "      <td>1.0</td>\n",
       "      <td>107955.67</td>\n",
       "      <td>0</td>\n",
       "    </tr>\n",
       "  </tbody>\n",
       "</table>\n",
       "</div>"
      ],
      "text/plain": [
       "     ID  Product_using_score User_area  gender   age  Cumulative_using_time  \\\n",
       "0  6518                628.0       NaN  Female  51.0                    NaN   \n",
       "1  5195                696.0    Taipei     NaN  27.0                    4.0   \n",
       "2  1786                  NaN  Taichung    Male  40.0                    3.0   \n",
       "3  6151                  NaN       NaN    Male   NaN                    NaN   \n",
       "4  7577                  NaN    Tainan     NaN  27.0                    NaN   \n",
       "\n",
       "   Point_balance  Product_service_usage  Pay_a_monthly_fee_by_credit_card  \\\n",
       "0      155903.82                    2.0                               1.0   \n",
       "1            NaN                    2.0                               0.0   \n",
       "2            NaN                    2.0                               1.0   \n",
       "3            NaN                    NaN                               1.0   \n",
       "4           0.00                    1.0                               NaN   \n",
       "\n",
       "   Active_user   Estimated_salary  TARGET  \n",
       "0          1.0           71159.84       0  \n",
       "1          NaN          196111.35       0  \n",
       "2          1.0                NaN       0  \n",
       "3          0.0                NaN       1  \n",
       "4          1.0          107955.67       0  "
      ]
     },
     "execution_count": 33,
     "metadata": {},
     "output_type": "execute_result"
    }
   ],
   "source": [
    "train.head()"
   ]
  },
  {
   "cell_type": "code",
   "execution_count": null,
   "metadata": {},
   "outputs": [],
   "source": []
  },
  {
   "cell_type": "code",
   "execution_count": 25,
   "metadata": {},
   "outputs": [
    {
     "data": {
      "text/html": [
       "<div>\n",
       "<style scoped>\n",
       "    .dataframe tbody tr th:only-of-type {\n",
       "        vertical-align: middle;\n",
       "    }\n",
       "\n",
       "    .dataframe tbody tr th {\n",
       "        vertical-align: top;\n",
       "    }\n",
       "\n",
       "    .dataframe thead th {\n",
       "        text-align: right;\n",
       "    }\n",
       "</style>\n",
       "<table border=\"1\" class=\"dataframe\">\n",
       "  <thead>\n",
       "    <tr style=\"text-align: right;\">\n",
       "      <th></th>\n",
       "      <th>ID</th>\n",
       "      <th>Product_using_score</th>\n",
       "      <th>age</th>\n",
       "      <th>Cumulative_using_time</th>\n",
       "      <th>Point_balance</th>\n",
       "      <th>Product_service_usage</th>\n",
       "      <th>Pay_a_monthly_fee_by_credit_card</th>\n",
       "      <th>Active_user</th>\n",
       "      <th>Estimated_salary</th>\n",
       "      <th>TARGET</th>\n",
       "      <th>User_area_Taichung</th>\n",
       "      <th>User_area_Tainan</th>\n",
       "      <th>User_area_Taipei</th>\n",
       "      <th>gender_Female</th>\n",
       "      <th>gender_Male</th>\n",
       "    </tr>\n",
       "  </thead>\n",
       "  <tbody>\n",
       "    <tr>\n",
       "      <th>0</th>\n",
       "      <td>6518</td>\n",
       "      <td>628.0</td>\n",
       "      <td>51.0</td>\n",
       "      <td>NaN</td>\n",
       "      <td>155903.82</td>\n",
       "      <td>2.0</td>\n",
       "      <td>1.0</td>\n",
       "      <td>1.0</td>\n",
       "      <td>71159.84</td>\n",
       "      <td>0</td>\n",
       "      <td>0</td>\n",
       "      <td>0</td>\n",
       "      <td>0</td>\n",
       "      <td>1</td>\n",
       "      <td>0</td>\n",
       "    </tr>\n",
       "    <tr>\n",
       "      <th>1</th>\n",
       "      <td>5195</td>\n",
       "      <td>696.0</td>\n",
       "      <td>27.0</td>\n",
       "      <td>4.0</td>\n",
       "      <td>NaN</td>\n",
       "      <td>2.0</td>\n",
       "      <td>0.0</td>\n",
       "      <td>NaN</td>\n",
       "      <td>196111.35</td>\n",
       "      <td>0</td>\n",
       "      <td>0</td>\n",
       "      <td>0</td>\n",
       "      <td>1</td>\n",
       "      <td>0</td>\n",
       "      <td>0</td>\n",
       "    </tr>\n",
       "    <tr>\n",
       "      <th>2</th>\n",
       "      <td>1786</td>\n",
       "      <td>NaN</td>\n",
       "      <td>40.0</td>\n",
       "      <td>3.0</td>\n",
       "      <td>NaN</td>\n",
       "      <td>2.0</td>\n",
       "      <td>1.0</td>\n",
       "      <td>1.0</td>\n",
       "      <td>NaN</td>\n",
       "      <td>0</td>\n",
       "      <td>1</td>\n",
       "      <td>0</td>\n",
       "      <td>0</td>\n",
       "      <td>0</td>\n",
       "      <td>1</td>\n",
       "    </tr>\n",
       "    <tr>\n",
       "      <th>3</th>\n",
       "      <td>6151</td>\n",
       "      <td>NaN</td>\n",
       "      <td>NaN</td>\n",
       "      <td>NaN</td>\n",
       "      <td>NaN</td>\n",
       "      <td>NaN</td>\n",
       "      <td>1.0</td>\n",
       "      <td>0.0</td>\n",
       "      <td>NaN</td>\n",
       "      <td>1</td>\n",
       "      <td>0</td>\n",
       "      <td>0</td>\n",
       "      <td>0</td>\n",
       "      <td>0</td>\n",
       "      <td>1</td>\n",
       "    </tr>\n",
       "    <tr>\n",
       "      <th>4</th>\n",
       "      <td>7577</td>\n",
       "      <td>NaN</td>\n",
       "      <td>27.0</td>\n",
       "      <td>NaN</td>\n",
       "      <td>0.00</td>\n",
       "      <td>1.0</td>\n",
       "      <td>NaN</td>\n",
       "      <td>1.0</td>\n",
       "      <td>107955.67</td>\n",
       "      <td>0</td>\n",
       "      <td>0</td>\n",
       "      <td>1</td>\n",
       "      <td>0</td>\n",
       "      <td>0</td>\n",
       "      <td>0</td>\n",
       "    </tr>\n",
       "  </tbody>\n",
       "</table>\n",
       "</div>"
      ],
      "text/plain": [
       "     ID  Product_using_score   age  Cumulative_using_time  Point_balance  \\\n",
       "0  6518                628.0  51.0                    NaN      155903.82   \n",
       "1  5195                696.0  27.0                    4.0            NaN   \n",
       "2  1786                  NaN  40.0                    3.0            NaN   \n",
       "3  6151                  NaN   NaN                    NaN            NaN   \n",
       "4  7577                  NaN  27.0                    NaN           0.00   \n",
       "\n",
       "   Product_service_usage  Pay_a_monthly_fee_by_credit_card  Active_user  \\\n",
       "0                    2.0                               1.0          1.0   \n",
       "1                    2.0                               0.0          NaN   \n",
       "2                    2.0                               1.0          1.0   \n",
       "3                    NaN                               1.0          0.0   \n",
       "4                    1.0                               NaN          1.0   \n",
       "\n",
       "    Estimated_salary  TARGET  User_area_Taichung  User_area_Tainan  \\\n",
       "0           71159.84       0                   0                 0   \n",
       "1          196111.35       0                   0                 0   \n",
       "2                NaN       0                   1                 0   \n",
       "3                NaN       1                   0                 0   \n",
       "4          107955.67       0                   0                 1   \n",
       "\n",
       "   User_area_Taipei  gender_Female  gender_Male  \n",
       "0                 0              1            0  \n",
       "1                 1              0            0  \n",
       "2                 0              0            1  \n",
       "3                 0              0            1  \n",
       "4                 0              0            0  "
      ]
     },
     "execution_count": 25,
     "metadata": {},
     "output_type": "execute_result"
    }
   ],
   "source": [
    "train.head()"
   ]
  },
  {
   "cell_type": "code",
   "execution_count": 34,
   "metadata": {},
   "outputs": [
    {
     "data": {
      "text/plain": [
       "count    4207.000000\n",
       "mean        5.006418\n",
       "std         2.882664\n",
       "min         0.000000\n",
       "25%         3.000000\n",
       "50%         5.000000\n",
       "75%         8.000000\n",
       "max        10.000000\n",
       "Name: Cumulative_using_time, dtype: float64"
      ]
     },
     "execution_count": 34,
     "metadata": {},
     "output_type": "execute_result"
    }
   ],
   "source": [
    "train.Cumulative_using_time.describe()"
   ]
  },
  {
   "cell_type": "code",
   "execution_count": 35,
   "metadata": {},
   "outputs": [],
   "source": [
    "\n",
    "def f1_score_vail(pred, data_vail):\n",
    "    labels = data_vail.get_label() \n",
    "    preds = []\n",
    "    for i in pred: \n",
    "        if i > 0.5:\n",
    "            preds.append(1)\n",
    "        else:\n",
    "            preds.append(0) \n",
    "    score_vail = f1_score(y_true=labels, y_pred=preds, average='binary')      # xgb的predict输出即为对应的label\n",
    "    return '1-f1_score', 1-score_vail   # xgb目标是将目标指标降低\n"
   ]
  },
  {
   "cell_type": "code",
   "execution_count": 5,
   "metadata": {},
   "outputs": [],
   "source": [
    "def modelfit(alg, dtrain, predictors,useTrainCV=True, cv_folds=5, early_stopping_rounds=50):\n",
    "    if useTrainCV:\n",
    "        xgb_param = alg.get_xgb_params()\n",
    "        xgtrain = xgb.DMatrix(dtrain[predictors].values, label=dtrain[target].values)\n",
    "        cvresult = xgb.cv(xgb_param, xgtrain, num_boost_round=alg.get_params()['n_estimators'], nfold=cv_folds,\n",
    "            metrics='auc', early_stopping_rounds=early_stopping_rounds)\n",
    "        alg.set_params(n_estimators=cvresult.shape[0])\n",
    "\n",
    "    #Fit the algorithm on the data\n",
    "    alg.fit(dtrain[predictors], dtrain['TARGET'],eval_metric='auc')\n",
    "\n",
    "    #Predict training set:\n",
    "    dtrain_predictions = alg.predict(dtrain[predictors])\n",
    "    dtrain_predprob = alg.predict_proba(dtrain[predictors])[:,1]\n",
    "\n",
    "    #Print model report:\n",
    "    print (\"\\nModel Report\")\n",
    "    print (\"Accuracy : %.4g\" % metrics.accuracy_score(dtrain['TARGET'].values, dtrain_predictions))\n",
    "    print (\"f1 : %.4g\" % metrics.f1_score(dtrain['TARGET'].values, dtrain_predictions))\n",
    "    print (\"precesion : %.4g\" % metrics.precision_score(dtrain['TARGET'].values, dtrain_predictions))\n",
    "    print (\"recall : %.4g\" % metrics.recall_score(dtrain['TARGET'].values, dtrain_predictions))\n",
    "    print (\"AUC Score (Train): %f\" % metrics.roc_auc_score(dtrain['TARGET'], dtrain_predprob))\n",
    "\n",
    "    feat_imp = pd.Series(alg.get_booster().get_fscore()).sort_values(ascending=False)\n",
    "    feat_imp.plot(kind='bar', title='Feature Importances')\n",
    "    plt.ylabel('Feature Importance Score')\n"
   ]
  },
  {
   "cell_type": "code",
   "execution_count": 15,
   "metadata": {},
   "outputs": [
    {
     "data": {
      "text/plain": [
       "({'scale_pos_weight': 2.5}, 0.5272528303372349)"
      ]
     },
     "execution_count": 15,
     "metadata": {},
     "output_type": "execute_result"
    }
   ],
   "source": [
    "param_test0 = {\n",
    " 'n_estimators':range(40,42,1),\n",
    " 'learning_rate':[0.09,0.1]\n",
    "}\n",
    "\n",
    "param_test1 = {\n",
    " 'max_depth':range(9,12,1),\n",
    " 'min_child_weight':range(6,7,1)\n",
    "}\n",
    "param_test2 = {\n",
    " 'gamma':[i/10.0 for i in range(0,5)]\n",
    "}\n",
    "param_test3 = {\n",
    " 'subsample':[i/100 for i in range(90,100,5)],\n",
    " 'colsample_bytree':[i/100 for i in range(65,80,5)]\n",
    "}\n",
    "param_test4 = {\n",
    " 'reg_alpha':[1.1]\n",
    "}\n",
    "param_test5 = {\n",
    " 'scale_pos_weight':[2.5]\n",
    "}\n",
    "gsearch0 = GridSearchCV(estimator = XGBClassifier( learning_rate =0.1, n_estimators=40, max_depth=9,\n",
    " min_child_weight=6, gamma=0, subsample=0.9, colsample_bytree=0.7,reg_alpha=1.1,\n",
    " objective= 'binary:logistic', nthread=4, scale_pos_weight=2.5,seed=27), \n",
    " param_grid = param_test5, scoring='f1',n_jobs=4,iid=False, cv=5)\n",
    "gsearch0.fit(train[predictors],train[target])\n",
    "gsearch0.best_params_,    gsearch0.best_score_\n"
   ]
  },
  {
   "cell_type": "code",
   "execution_count": 120,
   "metadata": {},
   "outputs": [
    {
     "name": "stdout",
     "output_type": "stream",
     "text": [
      "precision 0.5219956509142601\n",
      "recall 0.5175663631545985\n",
      "f1 0.5133730584277115\n"
     ]
    }
   ],
   "source": [
    "from sklearn.ensemble import BaggingClassifier\n",
    "bagging_clf = BaggingClassifier(gsearch0,n_estimators=20)\n",
    "# 计算交叉验证的准确率\n",
    "#scores = cross_val_score(bagging_clf, train_data, train_target, cv=3)\n",
    "#print(scores.mean())\n",
    "estimate(bagging_clf)"
   ]
  },
  {
   "cell_type": "code",
   "execution_count": 1,
   "metadata": {},
   "outputs": [
    {
     "data": {
      "text/plain": [
       "0.5197715710461033"
      ]
     },
     "execution_count": 1,
     "metadata": {},
     "output_type": "execute_result"
    }
   ],
   "source": [
    "a = 0.5219956509142601\n",
    "b = 0.5175663631545985\n",
    "2*a*b/(a+b)"
   ]
  },
  {
   "cell_type": "code",
   "execution_count": 108,
   "metadata": {},
   "outputs": [
    {
     "data": {
      "text/plain": [
       "BaggingClassifier(base_estimator=GridSearchCV(cv=5, error_score='raise-deprecating',\n",
       "       estimator=XGBClassifier(base_score=0.5, booster='gbtree', colsample_bylevel=1,\n",
       "       colsample_bynode=1, colsample_bytree=0.7, gamma=0,\n",
       "       learning_rate=0.1, max_delta_step=0, max_depth=9,\n",
       "       min_child_weight=6, missi...1]}, pre_dispatch='2*n_jobs',\n",
       "       refit=True, return_train_score='warn', scoring='f1', verbose=0),\n",
       "         bootstrap=True, bootstrap_features=False, max_features=1.0,\n",
       "         max_samples=1.0, n_estimators=20, n_jobs=None, oob_score=False,\n",
       "         random_state=None, verbose=0, warm_start=False)"
      ]
     },
     "execution_count": 108,
     "metadata": {},
     "output_type": "execute_result"
    }
   ],
   "source": [
    "bagging_clf.fit(train[predictors],train[target])"
   ]
  },
  {
   "cell_type": "code",
   "execution_count": 109,
   "metadata": {},
   "outputs": [
    {
     "data": {
      "text/html": [
       "<div>\n",
       "<style scoped>\n",
       "    .dataframe tbody tr th:only-of-type {\n",
       "        vertical-align: middle;\n",
       "    }\n",
       "\n",
       "    .dataframe tbody tr th {\n",
       "        vertical-align: top;\n",
       "    }\n",
       "\n",
       "    .dataframe thead th {\n",
       "        text-align: right;\n",
       "    }\n",
       "</style>\n",
       "<table border=\"1\" class=\"dataframe\">\n",
       "  <thead>\n",
       "    <tr style=\"text-align: right;\">\n",
       "      <th></th>\n",
       "      <th>Product_using_score</th>\n",
       "      <th>age</th>\n",
       "      <th>Cumulative_using_time</th>\n",
       "      <th>Point_balance</th>\n",
       "      <th>Product_service_usage</th>\n",
       "      <th>Pay_a_monthly_fee_by_credit_card</th>\n",
       "      <th>Active_user</th>\n",
       "      <th>Estimated_salary</th>\n",
       "      <th>User_area_Taichung</th>\n",
       "      <th>User_area_Tainan</th>\n",
       "      <th>User_area_Taipei</th>\n",
       "      <th>gender_Female</th>\n",
       "      <th>gender_Male</th>\n",
       "    </tr>\n",
       "  </thead>\n",
       "  <tbody>\n",
       "    <tr>\n",
       "      <th>0</th>\n",
       "      <td>655.0</td>\n",
       "      <td>37.0</td>\n",
       "      <td>4.0</td>\n",
       "      <td>108862.76</td>\n",
       "      <td>NaN</td>\n",
       "      <td>1.0</td>\n",
       "      <td>0.0</td>\n",
       "      <td>79555.08</td>\n",
       "      <td>1</td>\n",
       "      <td>0</td>\n",
       "      <td>0</td>\n",
       "      <td>1</td>\n",
       "      <td>0</td>\n",
       "    </tr>\n",
       "    <tr>\n",
       "      <th>1</th>\n",
       "      <td>NaN</td>\n",
       "      <td>52.0</td>\n",
       "      <td>9.0</td>\n",
       "      <td>111973.97</td>\n",
       "      <td>1.0</td>\n",
       "      <td>NaN</td>\n",
       "      <td>1.0</td>\n",
       "      <td>NaN</td>\n",
       "      <td>1</td>\n",
       "      <td>0</td>\n",
       "      <td>0</td>\n",
       "      <td>0</td>\n",
       "      <td>0</td>\n",
       "    </tr>\n",
       "    <tr>\n",
       "      <th>2</th>\n",
       "      <td>519.0</td>\n",
       "      <td>21.0</td>\n",
       "      <td>1.0</td>\n",
       "      <td>146329.57</td>\n",
       "      <td>2.0</td>\n",
       "      <td>1.0</td>\n",
       "      <td>1.0</td>\n",
       "      <td>194867.27</td>\n",
       "      <td>0</td>\n",
       "      <td>0</td>\n",
       "      <td>1</td>\n",
       "      <td>0</td>\n",
       "      <td>0</td>\n",
       "    </tr>\n",
       "    <tr>\n",
       "      <th>3</th>\n",
       "      <td>NaN</td>\n",
       "      <td>NaN</td>\n",
       "      <td>NaN</td>\n",
       "      <td>0.00</td>\n",
       "      <td>2.0</td>\n",
       "      <td>0.0</td>\n",
       "      <td>0.0</td>\n",
       "      <td>96398.51</td>\n",
       "      <td>0</td>\n",
       "      <td>1</td>\n",
       "      <td>0</td>\n",
       "      <td>0</td>\n",
       "      <td>1</td>\n",
       "    </tr>\n",
       "    <tr>\n",
       "      <th>4</th>\n",
       "      <td>NaN</td>\n",
       "      <td>33.0</td>\n",
       "      <td>10.0</td>\n",
       "      <td>138847.90</td>\n",
       "      <td>NaN</td>\n",
       "      <td>1.0</td>\n",
       "      <td>NaN</td>\n",
       "      <td>127256.70</td>\n",
       "      <td>0</td>\n",
       "      <td>0</td>\n",
       "      <td>0</td>\n",
       "      <td>1</td>\n",
       "      <td>0</td>\n",
       "    </tr>\n",
       "  </tbody>\n",
       "</table>\n",
       "</div>"
      ],
      "text/plain": [
       "   Product_using_score   age  Cumulative_using_time  Point_balance  \\\n",
       "0                655.0  37.0                    4.0      108862.76   \n",
       "1                  NaN  52.0                    9.0      111973.97   \n",
       "2                519.0  21.0                    1.0      146329.57   \n",
       "3                  NaN   NaN                    NaN           0.00   \n",
       "4                  NaN  33.0                   10.0      138847.90   \n",
       "\n",
       "   Product_service_usage  Pay_a_monthly_fee_by_credit_card  Active_user  \\\n",
       "0                    NaN                               1.0          0.0   \n",
       "1                    1.0                               NaN          1.0   \n",
       "2                    2.0                               1.0          1.0   \n",
       "3                    2.0                               0.0          0.0   \n",
       "4                    NaN                               1.0          NaN   \n",
       "\n",
       "    Estimated_salary  User_area_Taichung  User_area_Tainan  User_area_Taipei  \\\n",
       "0           79555.08                   1                 0                 0   \n",
       "1                NaN                   1                 0                 0   \n",
       "2          194867.27                   0                 0                 1   \n",
       "3           96398.51                   0                 1                 0   \n",
       "4          127256.70                   0                 0                 0   \n",
       "\n",
       "   gender_Female  gender_Male  \n",
       "0              1            0  \n",
       "1              0            0  \n",
       "2              0            0  \n",
       "3              0            1  \n",
       "4              1            0  "
      ]
     },
     "execution_count": 109,
     "metadata": {},
     "output_type": "execute_result"
    }
   ],
   "source": [
    "test_data = pd.read_csv('df_test.csv')\n",
    "test_data_id = test_data.ID\n",
    "test_data.drop('ID',axis=1,inplace=True)\n",
    "test_data.drop('TARGET',axis=1,inplace=True)\n",
    "test_data = pd.get_dummies(test_data)\n",
    "test_data.head()"
   ]
  },
  {
   "cell_type": "code",
   "execution_count": 110,
   "metadata": {},
   "outputs": [],
   "source": [
    "rs = bagging_clf.predict(test_data)\n"
   ]
  },
  {
   "cell_type": "code",
   "execution_count": 113,
   "metadata": {},
   "outputs": [
    {
     "data": {
      "text/plain": [
       "0.20383333333333334"
      ]
     },
     "execution_count": 113,
     "metadata": {},
     "output_type": "execute_result"
    }
   ],
   "source": [
    "train.TARGET.values.sum()/6000"
   ]
  },
  {
   "cell_type": "code",
   "execution_count": 114,
   "metadata": {},
   "outputs": [
    {
     "data": {
      "text/plain": [
       "0.205"
      ]
     },
     "execution_count": 114,
     "metadata": {},
     "output_type": "execute_result"
    }
   ],
   "source": [
    "rs.sum()/2000"
   ]
  },
  {
   "cell_type": "code",
   "execution_count": 115,
   "metadata": {},
   "outputs": [],
   "source": [
    "df = pd.DataFrame()"
   ]
  },
  {
   "cell_type": "code",
   "execution_count": 116,
   "metadata": {},
   "outputs": [],
   "source": [
    "df['ID'] = test_data_id"
   ]
  },
  {
   "cell_type": "code",
   "execution_count": 117,
   "metadata": {},
   "outputs": [],
   "source": [
    "df['Predicted_Results'] = np.array(rs)"
   ]
  },
  {
   "cell_type": "code",
   "execution_count": 118,
   "metadata": {},
   "outputs": [],
   "source": [
    "df.to_csv('result.csv',index=False)"
   ]
  },
  {
   "cell_type": "code",
   "execution_count": null,
   "metadata": {},
   "outputs": [],
   "source": []
  },
  {
   "cell_type": "code",
   "execution_count": null,
   "metadata": {},
   "outputs": [],
   "source": []
  },
  {
   "cell_type": "code",
   "execution_count": null,
   "metadata": {},
   "outputs": [],
   "source": []
  },
  {
   "cell_type": "code",
   "execution_count": null,
   "metadata": {},
   "outputs": [],
   "source": []
  },
  {
   "cell_type": "code",
   "execution_count": 5,
   "metadata": {},
   "outputs": [
    {
     "name": "stdout",
     "output_type": "stream",
     "text": [
      "\n",
      "Model Report\n",
      "Accuracy : 0.9878\n",
      "f1 : 0.9646\n",
      "precesion : 0.9317\n",
      "recall : 1\n",
      "AUC Score (Train): 0.999938\n"
     ]
    },
    {
     "data": {
      "image/png": "[encoded data removed]",
      "text/plain": [
       "<Figure size 432x288 with 1 Axes>"
      ]
     },
     "metadata": {
      "needs_background": "light"
     },
     "output_type": "display_data"
    }
   ],
   "source": [
    "xgb1 = XGBClassifier(\n",
    " learning_rate =0.11,\n",
    " n_estimators=39,\n",
    " max_depth=7,\n",
    " min_child_weight=1,\n",
    " gamma=0,\n",
    " subsample=0.8,\n",
    " colsample_bytree=0.8,\n",
    " objective= 'binary:logistic',\n",
    " nthread=4,\n",
    " scale_pos_weight=5,\n",
    " seed=27)\n",
    "modelfit(xgb1, train, predictors)"
   ]
  },
  {
   "cell_type": "code",
   "execution_count": 119,
   "metadata": {},
   "outputs": [],
   "source": [
    "def estimate(estimator, name='estimator'):\n",
    "    #estimator.fit(train[predictors], train[target])\n",
    "    #auc = cross_val_score(estimator,train[predictors],train[target], scoring='roc_auc', cv=3).mean()\n",
    "    precision = cross_val_score(estimator, train[predictors],train[target], scoring='precision', cv=3).mean()\n",
    "    f1 = cross_val_score(estimator, train[predictors],train[target], scoring='f1', cv=3).mean()\n",
    "    recall = cross_val_score(estimator, train[predictors],train[target], scoring='recall', cv=3).mean()\n",
    "\n",
    "    #print('auc',auc)\n",
    "    print('precision',precision)    \n",
    "    print('recall',recall)    \n",
    "    print('f1',f1)        "
   ]
  },
  {
   "cell_type": "code",
   "execution_count": null,
   "metadata": {},
   "outputs": [],
   "source": []
  },
  {
   "cell_type": "code",
   "execution_count": null,
   "metadata": {},
   "outputs": [],
   "source": []
  }
 ],
 "metadata": {
  "kernelspec": {
   "display_name": "Python 3",
   "language": "python",
   "name": "python3"
  },
  "language_info": {
   "codemirror_mode": {
    "name": "ipython",
    "version": 3
   },
   "file_extension": ".py",
   "mimetype": "text/x-python",
   "name": "python",
   "nbconvert_exporter": "python",
   "pygments_lexer": "ipython3",
   "version": "3.7.3"
  },
  "toc": {
   "base_numbering": 1,
   "nav_menu": {},
   "number_sections": true,
   "sideBar": true,
   "skip_h1_title": false,
   "title_cell": "Table of Contents",
   "title_sidebar": "Contents",
   "toc_cell": false,
   "toc_position": {},
   "toc_section_display": true,
   "toc_window_display": false
  }
 },
 "nbformat": 4,
 "nbformat_minor": 2
}
